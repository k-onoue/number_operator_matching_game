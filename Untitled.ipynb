{
  "cells": [
    {
      "cell_type": "markdown",
      "source": [
        "# Naive Implementation"
      ],
      "metadata": {
        "id": "RAKqJ1-XnG4W"
      }
    },
    {
      "cell_type": "code",
      "source": [
        "from copy import deepcopy\n",
        "from itertools import permutations, product\n",
        "\n",
        "class Solver:\n",
        "\n",
        "    def __init__(\n",
        "            self,\n",
        "            target_number: int,\n",
        "            numbers: list[int],\n",
        "            accuracy: float = 0.00000001,\n",
        "        ) -> None:\n",
        "\n",
        "        # Initialize the Solver object with target number, numbers to operate on, and accuracy\n",
        "        self.target_number = target_number\n",
        "        self.numbers = numbers\n",
        "\n",
        "        # Accuracy to determine how close a solution needs to be to the target number\n",
        "        self.accuracy = accuracy\n",
        "\n",
        "        # Create a list of all unique permutations of the given numbers\n",
        "        self.numbers_list = [list(nums) for nums in set(permutations(numbers))]\n",
        "        self.iter_num = len(numbers) - 1\n",
        "\n",
        "        # Dictionary of basic arithmetic operators\n",
        "        self.operators = {\n",
        "            '+': lambda x, y: x + y,\n",
        "            '-': lambda x, y: x - y,\n",
        "            '*': lambda x, y: x * y,\n",
        "            '/': lambda x, y: x / y,\n",
        "        }\n",
        "\n",
        "        # List of all possible combinations of operators and their calculation orders\n",
        "        self.operators_with_calc_order = self._list_operator_calc_order_pair()\n",
        "\n",
        "    def _list_operator_calc_order_pair(self) -> list[dict[int, str]]:\n",
        "        # Generate all possible calculation orders for given number of operands\n",
        "        calc_orders = list(permutations([num for num in range(self.iter_num)]))\n",
        "\n",
        "        operators_with_calc_order = []\n",
        "\n",
        "        # Generate all possible combinations of operators and calculation orders\n",
        "        for op_combination in product(self.operators.keys(), repeat=self.iter_num):\n",
        "            for calc_order in calc_orders:\n",
        "                operators_with_calc_order.append({order: op for order, op in zip(calc_order, op_combination)})\n",
        "\n",
        "        return operators_with_calc_order\n",
        "\n",
        "    def calculate(self, numbers: list[int], op_order: dict[int, str]) -> float:\n",
        "        # Deep copy the numbers to avoid modifying the original list\n",
        "        nums = deepcopy(numbers)\n",
        "        idxs_used = []\n",
        "\n",
        "        # Iterate through each operator and perform the corresponding calculation\n",
        "        for i in range(self.iter_num):\n",
        "            tmp = list(op_order).index(i)\n",
        "            op = op_order[i]\n",
        "\n",
        "            # Check for division by zero\n",
        "            if op == '/' and nums[tmp + 1] == 0:\n",
        "                return None\n",
        "\n",
        "            # Perform the operation and update the result in the list\n",
        "            res = self.operators[op](nums[tmp], nums[tmp + 1])\n",
        "\n",
        "            # Track the indices used in the calculation\n",
        "            if tmp not in idxs_used:\n",
        "                idxs_used.append(tmp)\n",
        "            if tmp + 1 not in idxs_used:\n",
        "                idxs_used.append(tmp + 1)\n",
        "\n",
        "            # Update the list with the result of the calculation\n",
        "            for idx in idxs_used:\n",
        "                nums[idx] = res\n",
        "\n",
        "        return nums[0]\n",
        "\n",
        "    def solve(self) -> list[dict]:\n",
        "        # List to store solutions\n",
        "        solutions = []\n",
        "\n",
        "        # Iterate through each permutation of numbers and each combination of operators and their orders\n",
        "        for numbers in self.numbers_list:\n",
        "            for op_order in self.operators_with_calc_order:\n",
        "                # Calculate the result\n",
        "                res = self.calculate(numbers, op_order)\n",
        "\n",
        "                # Check if the result is within the desired accuracy of the target number\n",
        "                if res is not None and abs(res - self.target_number) <= self.accuracy:\n",
        "                    # If so, store the solution\n",
        "                    solution = {\n",
        "                        \"target_number\": self.target_number,\n",
        "                        \"numbers\": numbers,\n",
        "                        \"op_order\": op_order\n",
        "                    }\n",
        "\n",
        "                    solutions.append(solution)\n",
        "\n",
        "        # If no solutions were found, print a message\n",
        "        if not solutions:\n",
        "            print('No Solutions')\n",
        "\n",
        "        return solutions\n",
        "\n",
        "    def visualise(self, solution: dict) -> None:\n",
        "        target_num = deepcopy(solution['target_number'])\n",
        "        nums = deepcopy(solution['numbers'])\n",
        "        op_order = deepcopy(solution['op_order'])\n",
        "        idxs_used = []\n",
        "\n",
        "        for i in range(self.iter_num):\n",
        "            tmp = list(op_order).index(i)\n",
        "            op = op_order[i]\n",
        "\n",
        "            if i != self.iter_num - 1:\n",
        "                res = f'({nums[tmp]}{op}{nums[tmp + 1]})'\n",
        "            elif i == self.iter_num - 1:\n",
        "                res = f'{nums[tmp]}{op}{nums[tmp + 1]}'\n",
        "\n",
        "            if tmp not in idxs_used:\n",
        "                idxs_used.append(tmp)\n",
        "            if tmp + 1 not in idxs_used:\n",
        "                idxs_used.append(tmp + 1)\n",
        "\n",
        "            for idx in idxs_used:\n",
        "                nums[idx] = res\n",
        "\n",
        "        print(nums[0])"
      ],
      "metadata": {
        "id": "r0sYExh8LluS"
      },
      "execution_count": 1,
      "outputs": []
    },
    {
      "cell_type": "code",
      "source": [
        "numbers = [3, 3, 8, 8]\n",
        "target_number = 24\n",
        "\n",
        "s = Solver(target_number, numbers)\n",
        "solutions = s.solve()\n",
        "solutions"
      ],
      "metadata": {
        "id": "MWdfhyuFmr6q",
        "outputId": "482cada0-de32-4fc5-b060-42dc64b670fb",
        "colab": {
          "base_uri": "https://localhost:8080/"
        }
      },
      "execution_count": 2,
      "outputs": [
        {
          "output_type": "execute_result",
          "data": {
            "text/plain": [
              "[{'target_number': 24,\n",
              "  'numbers': [8, 3, 8, 3],\n",
              "  'op_order': {2: '/', 1: '-', 0: '/'}}]"
            ]
          },
          "metadata": {},
          "execution_count": 2
        }
      ]
    },
    {
      "cell_type": "code",
      "source": [
        "sol = solutions[0]\n",
        "sol"
      ],
      "metadata": {
        "colab": {
          "base_uri": "https://localhost:8080/"
        },
        "id": "apSZYfwqo_Gs",
        "outputId": "231f69e0-0bed-4e5b-84c9-6838ca266d96"
      },
      "execution_count": 3,
      "outputs": [
        {
          "output_type": "execute_result",
          "data": {
            "text/plain": [
              "{'target_number': 24,\n",
              " 'numbers': [8, 3, 8, 3],\n",
              " 'op_order': {2: '/', 1: '-', 0: '/'}}"
            ]
          },
          "metadata": {},
          "execution_count": 3
        }
      ]
    },
    {
      "cell_type": "code",
      "source": [
        "s.visualise(sol)"
      ],
      "metadata": {
        "colab": {
          "base_uri": "https://localhost:8080/"
        },
        "id": "lgsFdvzmpDyc",
        "outputId": "aa699044-c9ff-422f-9427-453c13781153"
      },
      "execution_count": 4,
      "outputs": [
        {
          "output_type": "stream",
          "name": "stdout",
          "text": [
            "8/(3-(8/3))\n"
          ]
        }
      ]
    },
    {
      "cell_type": "code",
      "source": [],
      "metadata": {
        "id": "WWWiZPKApEaN"
      },
      "execution_count": null,
      "outputs": []
    },
    {
      "cell_type": "code",
      "source": [],
      "metadata": {
        "id": "doq-slZlpEX3"
      },
      "execution_count": null,
      "outputs": []
    },
    {
      "cell_type": "code",
      "source": [],
      "metadata": {
        "id": "3ZDzgmYHpEVy"
      },
      "execution_count": null,
      "outputs": []
    },
    {
      "cell_type": "code",
      "source": [],
      "metadata": {
        "id": "k2z4QXn2pETd"
      },
      "execution_count": null,
      "outputs": []
    },
    {
      "cell_type": "code",
      "source": [],
      "metadata": {
        "id": "vSe-LQx3pERH"
      },
      "execution_count": null,
      "outputs": []
    },
    {
      "cell_type": "code",
      "source": [],
      "metadata": {
        "id": "kYSpQCj9pEOe"
      },
      "execution_count": null,
      "outputs": []
    },
    {
      "cell_type": "code",
      "source": [],
      "metadata": {
        "id": "CftLQwrQpEL6"
      },
      "execution_count": null,
      "outputs": []
    }
  ],
  "metadata": {
    "colab": {
      "provenance": []
    },
    "kernelspec": {
      "display_name": "Python 3",
      "name": "python3"
    }
  },
  "nbformat": 4,
  "nbformat_minor": 0
}